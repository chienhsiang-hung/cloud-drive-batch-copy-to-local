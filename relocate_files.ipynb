{
 "cells": [
  {
   "cell_type": "code",
   "execution_count": 4,
   "metadata": {},
   "outputs": [
    {
     "name": "stdout",
     "output_type": "stream",
     "text": [
      "0\n",
      "0\n",
      "0\n",
      "0\n",
      "0\n",
      "0\n",
      "0\n",
      "0\n",
      "0\n",
      "0\n",
      "0\n",
      "0\n",
      "0\n",
      "0\n",
      "0\n",
      "0\n",
      "0\n",
      "0\n",
      "0\n",
      "0\n",
      "0\n",
      "0\n"
     ]
    }
   ],
   "source": [
    "import os\n",
    "from os import listdir, path\n",
    "\n",
    "root = r'G:\\My Drive\\my_drive'\n",
    "for master in listdir(root):\n",
    "    master = path.join(root, master)\n",
    "    master_isdir = path.isdir(master)\n",
    "\n",
    "    if master_isdir: print(os.stat(master).st_size)\n",
    "\n",
    "\n",
    "    # print( master, master_isdir )\n",
    "    # while master_isdir:\n",
    "    #     listdir(master, )"
   ]
  },
  {
   "cell_type": "code",
   "execution_count": 3,
   "metadata": {},
   "outputs": [
    {
     "ename": "FileNotFoundError",
     "evalue": "[WinError 2] The system cannot find the file specified: 'G:\\\\My Drive\\\\my_drive\\\\NSYSU Finance\\\\desktop.ini'",
     "output_type": "error",
     "traceback": [
      "\u001b[1;31m---------------------------------------------------------------------------\u001b[0m",
      "\u001b[1;31mFileNotFoundError\u001b[0m                         Traceback (most recent call last)",
      "\u001b[1;32m<ipython-input-3-c89c7401545f>\u001b[0m in \u001b[0;36m<module>\u001b[1;34m\u001b[0m\n\u001b[0;32m     12\u001b[0m     \u001b[1;32mfor\u001b[0m \u001b[0mf\u001b[0m \u001b[1;32min\u001b[0m \u001b[0mfiles\u001b[0m\u001b[1;33m:\u001b[0m\u001b[1;33m\u001b[0m\u001b[1;33m\u001b[0m\u001b[0m\n\u001b[0;32m     13\u001b[0m         \u001b[0mfp\u001b[0m \u001b[1;33m=\u001b[0m \u001b[0mos\u001b[0m\u001b[1;33m.\u001b[0m\u001b[0mpath\u001b[0m\u001b[1;33m.\u001b[0m\u001b[0mjoin\u001b[0m\u001b[1;33m(\u001b[0m\u001b[0mpath\u001b[0m\u001b[1;33m,\u001b[0m \u001b[0mf\u001b[0m\u001b[1;33m)\u001b[0m\u001b[1;33m\u001b[0m\u001b[1;33m\u001b[0m\u001b[0m\n\u001b[1;32m---> 14\u001b[1;33m         \u001b[0msize\u001b[0m \u001b[1;33m+=\u001b[0m \u001b[0mos\u001b[0m\u001b[1;33m.\u001b[0m\u001b[0mpath\u001b[0m\u001b[1;33m.\u001b[0m\u001b[0mgetsize\u001b[0m\u001b[1;33m(\u001b[0m\u001b[0mfp\u001b[0m\u001b[1;33m)\u001b[0m\u001b[1;33m\u001b[0m\u001b[1;33m\u001b[0m\u001b[0m\n\u001b[0m\u001b[0;32m     15\u001b[0m \u001b[1;33m\u001b[0m\u001b[0m\n\u001b[0;32m     16\u001b[0m \u001b[1;31m# display size\u001b[0m\u001b[1;33m\u001b[0m\u001b[1;33m\u001b[0m\u001b[1;33m\u001b[0m\u001b[0m\n",
      "\u001b[1;32m~\\AppData\\Local\\Programs\\Python\\Python39\\lib\\genericpath.py\u001b[0m in \u001b[0;36mgetsize\u001b[1;34m(filename)\u001b[0m\n\u001b[0;32m     48\u001b[0m \u001b[1;32mdef\u001b[0m \u001b[0mgetsize\u001b[0m\u001b[1;33m(\u001b[0m\u001b[0mfilename\u001b[0m\u001b[1;33m)\u001b[0m\u001b[1;33m:\u001b[0m\u001b[1;33m\u001b[0m\u001b[1;33m\u001b[0m\u001b[0m\n\u001b[0;32m     49\u001b[0m     \u001b[1;34m\"\"\"Return the size of a file, reported by os.stat().\"\"\"\u001b[0m\u001b[1;33m\u001b[0m\u001b[1;33m\u001b[0m\u001b[0m\n\u001b[1;32m---> 50\u001b[1;33m     \u001b[1;32mreturn\u001b[0m \u001b[0mos\u001b[0m\u001b[1;33m.\u001b[0m\u001b[0mstat\u001b[0m\u001b[1;33m(\u001b[0m\u001b[0mfilename\u001b[0m\u001b[1;33m)\u001b[0m\u001b[1;33m.\u001b[0m\u001b[0mst_size\u001b[0m\u001b[1;33m\u001b[0m\u001b[1;33m\u001b[0m\u001b[0m\n\u001b[0m\u001b[0;32m     51\u001b[0m \u001b[1;33m\u001b[0m\u001b[0m\n\u001b[0;32m     52\u001b[0m \u001b[1;33m\u001b[0m\u001b[0m\n",
      "\u001b[1;31mFileNotFoundError\u001b[0m: [WinError 2] The system cannot find the file specified: 'G:\\\\My Drive\\\\my_drive\\\\NSYSU Finance\\\\desktop.ini'"
     ]
    }
   ],
   "source": [
    "# import module\n",
    "import os\n",
    " \n",
    "# assign size\n",
    "size = 0\n",
    " \n",
    "# assign folder path\n",
    "Folderpath = r'G:\\My Drive\\my_drive'\n",
    " \n",
    "# get size\n",
    "for path, dirs, files in os.walk(Folderpath):\n",
    "    for f in files:\n",
    "        fp = os.path.join(path, f)\n",
    "        size += os.path.getsize(fp)\n",
    " \n",
    "# display size\n",
    "print(\"Folder size: \" + str(size))"
   ]
  },
  {
   "cell_type": "code",
   "execution_count": 6,
   "metadata": {},
   "outputs": [
    {
     "data": {
      "text/plain": [
       "'1.28GB'"
      ]
     },
     "execution_count": 6,
     "metadata": {},
     "output_type": "execute_result"
    }
   ],
   "source": [
    "def get_directory_size(directory):\n",
    "    \"\"\"Returns the `directory` size in bytes.\"\"\"\n",
    "    total = 0\n",
    "    try:\n",
    "        # print(\"[+] Getting the size of\", directory)\n",
    "        for entry in os.scandir(directory):\n",
    "            if entry.is_file():\n",
    "                # if it's a file, use stat() function\n",
    "                total += entry.stat().st_size\n",
    "            elif entry.is_dir():\n",
    "                # if it's a directory, recursively call this function\n",
    "                total += get_directory_size(entry.path)\n",
    "    except NotADirectoryError:\n",
    "        # if `directory` isn't a directory, get the file size then\n",
    "        return os.path.getsize(directory)\n",
    "    except PermissionError:\n",
    "        # if for whatever reason we can't open the folder, return 0\n",
    "        return 0\n",
    "    return total\n",
    "\n",
    "def get_size_format(b, factor=1024, suffix=\"B\"):\n",
    "    \"\"\"\n",
    "    Scale bytes to its proper byte format\n",
    "    e.g:\n",
    "        1253656 => '1.20MB'\n",
    "        1253656678 => '1.17GB'\n",
    "    \"\"\"\n",
    "    for unit in [\"\", \"K\", \"M\", \"G\", \"T\", \"P\", \"E\", \"Z\"]:\n",
    "        if b < factor:\n",
    "            return f\"{b:.2f}{unit}{suffix}\"\n",
    "        b /= factor\n",
    "    return f\"{b:.2f}Y{suffix}\"\n",
    "\n",
    "get_size_format(\n",
    "    get_directory_size(r'G:\\My Drive\\my_drive\\Business and Finance')\n",
    ")"
   ]
  },
  {
   "cell_type": "code",
   "execution_count": 3,
   "metadata": {},
   "outputs": [
    {
     "ename": "NameError",
     "evalue": "name 'get_size_format' is not defined",
     "output_type": "error",
     "traceback": [
      "\u001b[1;31m---------------------------------------------------------------------------\u001b[0m",
      "\u001b[1;31mNameError\u001b[0m                                 Traceback (most recent call last)",
      "\u001b[1;32m<ipython-input-3-39070dc9294e>\u001b[0m in \u001b[0;36m<module>\u001b[1;34m\u001b[0m\n\u001b[0;32m      8\u001b[0m \u001b[1;33m\u001b[0m\u001b[0m\n\u001b[0;32m      9\u001b[0m     if master_isdir: print(master,\n\u001b[1;32m---> 10\u001b[1;33m         get_size_format(\n\u001b[0m\u001b[0;32m     11\u001b[0m             \u001b[0mget_directory_size\u001b[0m\u001b[1;33m(\u001b[0m\u001b[0mmaster\u001b[0m\u001b[1;33m)\u001b[0m\u001b[1;33m\u001b[0m\u001b[1;33m\u001b[0m\u001b[0m\n\u001b[0;32m     12\u001b[0m         )\n",
      "\u001b[1;31mNameError\u001b[0m: name 'get_size_format' is not defined"
     ]
    }
   ],
   "source": [
    "import os\n",
    "from os import listdir, path\n",
    "\n",
    "root = r'G:\\My Drive\\my_drive'\n",
    "for master in listdir(root):\n",
    "    master = path.join(root, master)\n",
    "    master_isdir = path.isdir(master)\n",
    "\n",
    "    if master_isdir: print(master,\n",
    "        get_size_format(\n",
    "            get_directory_size(master)\n",
    "        )\n",
    "    )\n",
    "\n",
    "\n",
    "    # print( master, master_isdir )\n",
    "    # while master_isdir:\n",
    "    #     listdir(master, )"
   ]
  },
  {
   "cell_type": "code",
   "execution_count": 5,
   "metadata": {},
   "outputs": [
    {
     "data": {
      "text/plain": [
       "['C:\\\\Users\\\\HsiangHung-WisdomGro\\\\OneDrive - Wisdom Asset Management Ltd\\\\my_drive\\\\test\\\\test.txt',\n",
       " 'C:\\\\Users\\\\HsiangHung-WisdomGro\\\\OneDrive - Wisdom Asset Management Ltd\\\\my_drive\\\\test\\\\test - Copy.txt']"
      ]
     },
     "execution_count": 5,
     "metadata": {},
     "output_type": "execute_result"
    }
   ],
   "source": [
    "# https://stackoverflow.com/questions/1868714/how-do-i-copy-an-entire-directory-of-files-into-an-existing-directory-using-pyth\n",
    "\n",
    "from distutils.dir_util import copy_tree\n",
    "copy_tree(r\"G:\\My Drive\\my_drive\\test\", r\"C:\\Users\\HsiangHung-WisdomGro\\OneDrive - Wisdom Asset Management Ltd\\my_drive\\test\")"
   ]
  },
  {
   "cell_type": "code",
   "execution_count": 6,
   "metadata": {},
   "outputs": [
    {
     "name": "stderr",
     "output_type": "stream",
     "text": [
      "100%|██████████| 93/93 [03:05<00:00,  2.00s/it]\n"
     ]
    }
   ],
   "source": [
    "import os\n",
    "from os import listdir, path\n",
    "# from distutils.dir_util import copy_tree\n",
    "import shutil\n",
    "from tqdm import tqdm\n",
    "\n",
    "def get_directory_size(directory):\n",
    "    \"\"\"Returns the `directory` size in bytes.\"\"\"\n",
    "    total = 0\n",
    "    try:\n",
    "        # print(\"[+] Getting the size of\", directory)\n",
    "        for entry in os.scandir(directory):\n",
    "            if entry.is_file():\n",
    "                # if it's a file, use stat() function\n",
    "                total += entry.stat().st_size\n",
    "            elif entry.is_dir():\n",
    "                # if it's a directory, recursively call this function\n",
    "                total += get_directory_size(entry.path)\n",
    "    except NotADirectoryError:\n",
    "        # if `directory` isn't a directory, get the file size then\n",
    "        return os.path.getsize(directory)\n",
    "    except PermissionError:\n",
    "        # if for whatever reason we can't open the folder, return 0\n",
    "        return 0\n",
    "    return total\n",
    "\n",
    "def get_size_format(b, factor=1024, suffix=\"B\"):\n",
    "    \"\"\"\n",
    "    Scale bytes to its proper byte format\n",
    "    e.g:\n",
    "        1253656 => '1.20MB'\n",
    "        1253656678 => '1.17GB'\n",
    "    \"\"\"\n",
    "    for unit in [\"\", \"K\", \"M\", \"G\", \"T\", \"P\", \"E\", \"Z\"]:\n",
    "        if b < factor:\n",
    "            return f\"{b:.2f}{unit}{suffix}\"\n",
    "        b /= factor\n",
    "    return f\"{b:.2f}Y{suffix}\"\n",
    "\n",
    "bigger_than_50g = []\n",
    "root = r'G:\\My Drive\\my_drive'\n",
    "new_root = r'C:\\Users\\HsiangHung-WisdomGro\\OneDrive - Wisdom Asset Management Ltd\\my_drive'\n",
    "\n",
    "for master in tqdm( listdir(root) ):\n",
    "    if master in listdir(new_root): continue\n",
    "    master_path = path.join(root, master)\n",
    "    master_isdir = path.isdir(master_path)\n",
    "    \n",
    "    if master_isdir:\n",
    "        shutil.copytree(master_path, path.join(new_root, master), ignore = shutil.ignore_patterns('*.ini', '*.gdoc', '*.gsheet'))\n",
    "\n",
    "        # print(master,\n",
    "        #     get_size_format(\n",
    "        #         get_directory_size(master)\n",
    "        #     )\n",
    "        # )\n",
    "        # bigger_than_50g.append([master, get_size_format( get_directory_size(master) )])\n",
    "    else:\n",
    "        shutil.copy(master_path, path.join(new_root, master))\n",
    "\n",
    "        # print(master)\n",
    "        # copy_tree(r\"G:\\My Drive\\my_drive\\test\", r\"C:\\Users\\HsiangHung-WisdomGro\\OneDrive - Wisdom Asset Management Ltd\")\n",
    "\n",
    "    # print( master, master_isdir )\n",
    "    # while master_isdir:\n",
    "    #     listdir(master, )"
   ]
  },
  {
   "cell_type": "code",
   "execution_count": 4,
   "metadata": {},
   "outputs": [
    {
     "data": {
      "text/plain": [
       "(True, 'final_project')"
      ]
     },
     "execution_count": 4,
     "metadata": {},
     "output_type": "execute_result"
    }
   ],
   "source": [
    "master_isdir, master"
   ]
  },
  {
   "cell_type": "code",
   "execution_count": 10,
   "metadata": {},
   "outputs": [
    {
     "name": "stderr",
     "output_type": "stream",
     "text": [
      "100%|██████████| 23/23 [00:03<00:00,  6.23it/s]"
     ]
    },
    {
     "name": "stdout",
     "output_type": "stream",
     "text": [
      "G:\\My Drive\\my_drive\\final_project\\Object_Detection\\YOLO_v5\\data 24.17GB\n",
      "G:\\My Drive\\my_drive\\final_project\\Object_Detection\\YOLO_v5\\yolov5 9.52MB\n",
      "G:\\My Drive\\my_drive\\final_project\\Object_Detection\\YOLO_v5\\weights 1.22GB\n"
     ]
    },
    {
     "name": "stderr",
     "output_type": "stream",
     "text": [
      "\n"
     ]
    }
   ],
   "source": [
    "bigger_than_50g = []\n",
    "root = r'G:\\My Drive\\my_drive\\final_project\\Object_Detection\\YOLO_v5'\n",
    "# new_root = r'C:\\Users\\HsiangHung-WisdomGro\\OneDrive - Wisdom Asset Management Ltd\\my_drive'\n",
    "\n",
    "for master in tqdm( listdir(root) ):\n",
    "    if master in listdir(new_root): continue\n",
    "    master_path = path.join(root, master)\n",
    "    master_isdir = path.isdir(master_path)\n",
    "    \n",
    "    if master_isdir:\n",
    "        # print(master)\n",
    "        # shutil.copytree(master_path, path.join(new_root, master), ignore = shutil.ignore_patterns('*.ini', '*.gdoc', '*.gsheet'))\n",
    "        print(master_path,\n",
    "            get_size_format(\n",
    "                get_directory_size(master_path)\n",
    "            )\n",
    "        )\n",
    "        # bigger_than_50g.append([master, get_size_format( get_directory_size(master) )])\n",
    "    else:\n",
    "        pass\n",
    "        # shutil.copy(master_path, path.join(new_root, master))\n",
    "\n",
    "        # print(master)\n",
    "        # copy_tree(r\"G:\\My Drive\\my_drive\\test\", r\"C:\\Users\\HsiangHung-WisdomGro\\OneDrive - Wisdom Asset Management Ltd\")\n",
    "\n",
    "    # print( master, master_isdir )\n",
    "    # while master_isdir:\n",
    "    #     listdir(master, )"
   ]
  },
  {
   "cell_type": "code",
   "execution_count": 7,
   "metadata": {},
   "outputs": [
    {
     "data": {
      "text/plain": [
       "'C:\\\\Users\\\\HsiangHung-WisdomGro\\\\OneDrive - Wisdom Asset Management Ltd\\\\Desktop\\\\test2\\\\test1'"
      ]
     },
     "execution_count": 7,
     "metadata": {},
     "output_type": "execute_result"
    }
   ],
   "source": [
    "import shutil\n",
    "\n",
    "shutil.copytree(r'C:\\Users\\HsiangHung-WisdomGro\\OneDrive - Wisdom Asset Management Ltd\\Desktop\\test', r'C:\\Users\\HsiangHung-WisdomGro\\OneDrive - Wisdom Asset Management Ltd\\Desktop\\test2\\test1')\n"
   ]
  },
  {
   "cell_type": "code",
   "execution_count": 2,
   "metadata": {},
   "outputs": [
    {
     "ename": "KeyboardInterrupt",
     "evalue": "",
     "output_type": "error",
     "traceback": [
      "\u001b[1;31m---------------------------------------------------------------------------\u001b[0m",
      "\u001b[1;31mKeyboardInterrupt\u001b[0m                         Traceback (most recent call last)",
      "\u001b[1;32m<ipython-input-2-0929e96ea510>\u001b[0m in \u001b[0;36m<module>\u001b[1;34m\u001b[0m\n\u001b[0;32m      1\u001b[0m \u001b[1;32mimport\u001b[0m \u001b[0mshutil\u001b[0m\u001b[1;33m\u001b[0m\u001b[1;33m\u001b[0m\u001b[0m\n\u001b[1;32m----> 2\u001b[1;33m \u001b[0mshutil\u001b[0m\u001b[1;33m.\u001b[0m\u001b[0mrmtree\u001b[0m\u001b[1;33m(\u001b[0m\u001b[1;34mr'G:\\My Drive\\my_drive\\final_project\\Object_Detection\\YOLO_v5\\data'\u001b[0m\u001b[1;33m)\u001b[0m\u001b[1;33m\u001b[0m\u001b[1;33m\u001b[0m\u001b[0m\n\u001b[0m",
      "\u001b[1;32m~\\AppData\\Local\\Programs\\Python\\Python39\\lib\\shutil.py\u001b[0m in \u001b[0;36mrmtree\u001b[1;34m(path, ignore_errors, onerror)\u001b[0m\n\u001b[0;32m    738\u001b[0m             \u001b[1;31m# can't continue even if onerror hook returns\u001b[0m\u001b[1;33m\u001b[0m\u001b[1;33m\u001b[0m\u001b[1;33m\u001b[0m\u001b[0m\n\u001b[0;32m    739\u001b[0m             \u001b[1;32mreturn\u001b[0m\u001b[1;33m\u001b[0m\u001b[1;33m\u001b[0m\u001b[0m\n\u001b[1;32m--> 740\u001b[1;33m         \u001b[1;32mreturn\u001b[0m \u001b[0m_rmtree_unsafe\u001b[0m\u001b[1;33m(\u001b[0m\u001b[0mpath\u001b[0m\u001b[1;33m,\u001b[0m \u001b[0monerror\u001b[0m\u001b[1;33m)\u001b[0m\u001b[1;33m\u001b[0m\u001b[1;33m\u001b[0m\u001b[0m\n\u001b[0m\u001b[0;32m    741\u001b[0m \u001b[1;33m\u001b[0m\u001b[0m\n\u001b[0;32m    742\u001b[0m \u001b[1;31m# Allow introspection of whether or not the hardening against symlink\u001b[0m\u001b[1;33m\u001b[0m\u001b[1;33m\u001b[0m\u001b[1;33m\u001b[0m\u001b[0m\n",
      "\u001b[1;32m~\\AppData\\Local\\Programs\\Python\\Python39\\lib\\shutil.py\u001b[0m in \u001b[0;36m_rmtree_unsafe\u001b[1;34m(path, onerror)\u001b[0m\n\u001b[0;32m    611\u001b[0m                 \u001b[0monerror\u001b[0m\u001b[1;33m(\u001b[0m\u001b[0mos\u001b[0m\u001b[1;33m.\u001b[0m\u001b[0mpath\u001b[0m\u001b[1;33m.\u001b[0m\u001b[0mislink\u001b[0m\u001b[1;33m,\u001b[0m \u001b[0mfullname\u001b[0m\u001b[1;33m,\u001b[0m \u001b[0msys\u001b[0m\u001b[1;33m.\u001b[0m\u001b[0mexc_info\u001b[0m\u001b[1;33m(\u001b[0m\u001b[1;33m)\u001b[0m\u001b[1;33m)\u001b[0m\u001b[1;33m\u001b[0m\u001b[1;33m\u001b[0m\u001b[0m\n\u001b[0;32m    612\u001b[0m                 \u001b[1;32mcontinue\u001b[0m\u001b[1;33m\u001b[0m\u001b[1;33m\u001b[0m\u001b[0m\n\u001b[1;32m--> 613\u001b[1;33m             \u001b[0m_rmtree_unsafe\u001b[0m\u001b[1;33m(\u001b[0m\u001b[0mfullname\u001b[0m\u001b[1;33m,\u001b[0m \u001b[0monerror\u001b[0m\u001b[1;33m)\u001b[0m\u001b[1;33m\u001b[0m\u001b[1;33m\u001b[0m\u001b[0m\n\u001b[0m\u001b[0;32m    614\u001b[0m         \u001b[1;32melse\u001b[0m\u001b[1;33m:\u001b[0m\u001b[1;33m\u001b[0m\u001b[1;33m\u001b[0m\u001b[0m\n\u001b[0;32m    615\u001b[0m             \u001b[1;32mtry\u001b[0m\u001b[1;33m:\u001b[0m\u001b[1;33m\u001b[0m\u001b[1;33m\u001b[0m\u001b[0m\n",
      "\u001b[1;32m~\\AppData\\Local\\Programs\\Python\\Python39\\lib\\shutil.py\u001b[0m in \u001b[0;36m_rmtree_unsafe\u001b[1;34m(path, onerror)\u001b[0m\n\u001b[0;32m    611\u001b[0m                 \u001b[0monerror\u001b[0m\u001b[1;33m(\u001b[0m\u001b[0mos\u001b[0m\u001b[1;33m.\u001b[0m\u001b[0mpath\u001b[0m\u001b[1;33m.\u001b[0m\u001b[0mislink\u001b[0m\u001b[1;33m,\u001b[0m \u001b[0mfullname\u001b[0m\u001b[1;33m,\u001b[0m \u001b[0msys\u001b[0m\u001b[1;33m.\u001b[0m\u001b[0mexc_info\u001b[0m\u001b[1;33m(\u001b[0m\u001b[1;33m)\u001b[0m\u001b[1;33m)\u001b[0m\u001b[1;33m\u001b[0m\u001b[1;33m\u001b[0m\u001b[0m\n\u001b[0;32m    612\u001b[0m                 \u001b[1;32mcontinue\u001b[0m\u001b[1;33m\u001b[0m\u001b[1;33m\u001b[0m\u001b[0m\n\u001b[1;32m--> 613\u001b[1;33m             \u001b[0m_rmtree_unsafe\u001b[0m\u001b[1;33m(\u001b[0m\u001b[0mfullname\u001b[0m\u001b[1;33m,\u001b[0m \u001b[0monerror\u001b[0m\u001b[1;33m)\u001b[0m\u001b[1;33m\u001b[0m\u001b[1;33m\u001b[0m\u001b[0m\n\u001b[0m\u001b[0;32m    614\u001b[0m         \u001b[1;32melse\u001b[0m\u001b[1;33m:\u001b[0m\u001b[1;33m\u001b[0m\u001b[1;33m\u001b[0m\u001b[0m\n\u001b[0;32m    615\u001b[0m             \u001b[1;32mtry\u001b[0m\u001b[1;33m:\u001b[0m\u001b[1;33m\u001b[0m\u001b[1;33m\u001b[0m\u001b[0m\n",
      "\u001b[1;32m~\\AppData\\Local\\Programs\\Python\\Python39\\lib\\shutil.py\u001b[0m in \u001b[0;36m_rmtree_unsafe\u001b[1;34m(path, onerror)\u001b[0m\n\u001b[0;32m    614\u001b[0m         \u001b[1;32melse\u001b[0m\u001b[1;33m:\u001b[0m\u001b[1;33m\u001b[0m\u001b[1;33m\u001b[0m\u001b[0m\n\u001b[0;32m    615\u001b[0m             \u001b[1;32mtry\u001b[0m\u001b[1;33m:\u001b[0m\u001b[1;33m\u001b[0m\u001b[1;33m\u001b[0m\u001b[0m\n\u001b[1;32m--> 616\u001b[1;33m                 \u001b[0mos\u001b[0m\u001b[1;33m.\u001b[0m\u001b[0munlink\u001b[0m\u001b[1;33m(\u001b[0m\u001b[0mfullname\u001b[0m\u001b[1;33m)\u001b[0m\u001b[1;33m\u001b[0m\u001b[1;33m\u001b[0m\u001b[0m\n\u001b[0m\u001b[0;32m    617\u001b[0m             \u001b[1;32mexcept\u001b[0m \u001b[0mOSError\u001b[0m\u001b[1;33m:\u001b[0m\u001b[1;33m\u001b[0m\u001b[1;33m\u001b[0m\u001b[0m\n\u001b[0;32m    618\u001b[0m                 \u001b[0monerror\u001b[0m\u001b[1;33m(\u001b[0m\u001b[0mos\u001b[0m\u001b[1;33m.\u001b[0m\u001b[0munlink\u001b[0m\u001b[1;33m,\u001b[0m \u001b[0mfullname\u001b[0m\u001b[1;33m,\u001b[0m \u001b[0msys\u001b[0m\u001b[1;33m.\u001b[0m\u001b[0mexc_info\u001b[0m\u001b[1;33m(\u001b[0m\u001b[1;33m)\u001b[0m\u001b[1;33m)\u001b[0m\u001b[1;33m\u001b[0m\u001b[1;33m\u001b[0m\u001b[0m\n",
      "\u001b[1;31mKeyboardInterrupt\u001b[0m: "
     ]
    }
   ],
   "source": [
    "import shutil\n",
    "shutil.rmtree(r'G:\\My Drive\\my_drive\\final_project\\Object_Detection\\YOLO_v5\\data')"
   ]
  },
  {
   "cell_type": "code",
   "execution_count": null,
   "metadata": {},
   "outputs": [],
   "source": []
  }
 ],
 "metadata": {
  "interpreter": {
   "hash": "a0e7aacca387f32e370ba32acf8143da996d8628ff2e4341b27b8248a832e48a"
  },
  "kernelspec": {
   "display_name": "Python 3.9.5 64-bit",
   "language": "python",
   "name": "python3"
  },
  "language_info": {
   "codemirror_mode": {
    "name": "ipython",
    "version": 3
   },
   "file_extension": ".py",
   "mimetype": "text/x-python",
   "name": "python",
   "nbconvert_exporter": "python",
   "pygments_lexer": "ipython3",
   "version": "3.9.5"
  },
  "orig_nbformat": 4
 },
 "nbformat": 4,
 "nbformat_minor": 2
}
