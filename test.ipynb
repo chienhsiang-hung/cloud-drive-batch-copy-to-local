{
 "cells": [
  {
   "cell_type": "code",
   "execution_count": 2,
   "metadata": {},
   "outputs": [
    {
     "name": "stdout",
     "output_type": "stream",
     "text": [
      "True\n"
     ]
    }
   ],
   "source": [
    "import os\n",
    "\n",
    "def relocate(input_folder, output_folder):\n",
    "    print(os.path.exists(input_folder))\n",
    "\n",
    "relocate(\n",
    "    r'C:\\Users\\HsiangHung-WisdomGro\\OneDrive - Wisdom Asset Management Ltd',\n",
    "    r'C:\\Users\\HsiangHung-WisdomGro\\OneDrive - Wisdom Asset Management Ltd'\n",
    ")"
   ]
  },
  {
   "cell_type": "code",
   "execution_count": null,
   "metadata": {},
   "outputs": [],
   "source": [
    "import os\n",
    "from os import listdir, path\n",
    "# from distutils.dir_util import copy_tree\n",
    "import shutil\n",
    "from tqdm import tqdm\n",
    "\n",
    "def get_directory_size(directory):\n",
    "    \"\"\"Returns the `directory` size in bytes.\"\"\"\n",
    "    total = 0\n",
    "    try:\n",
    "        # print(\"[+] Getting the size of\", directory)\n",
    "        for entry in os.scandir(directory):\n",
    "            if entry.is_file():\n",
    "                # if it's a file, use stat() function\n",
    "                total += entry.stat().st_size\n",
    "            elif entry.is_dir():\n",
    "                # if it's a directory, recursively call this function\n",
    "                total += get_directory_size(entry.path)\n",
    "    except NotADirectoryError:\n",
    "        # if `directory` isn't a directory, get the file size then\n",
    "        return os.path.getsize(directory)\n",
    "    except PermissionError:\n",
    "        # if for whatever reason we can't open the folder, return 0\n",
    "        return 0\n",
    "    return total\n",
    "\n",
    "def get_size_format(b, factor=1024, suffix=\"B\"):\n",
    "    \"\"\"\n",
    "    Scale bytes to its proper byte format\n",
    "    e.g:\n",
    "        1253656 => '1.20MB'\n",
    "        1253656678 => '1.17GB'\n",
    "    \"\"\"\n",
    "    for unit in [\"\", \"K\", \"M\", \"G\", \"T\", \"P\", \"E\", \"Z\"]:\n",
    "        if b < factor:\n",
    "            return f\"{b:.2f}{unit}{suffix}\"\n",
    "        b /= factor\n",
    "    return f\"{b:.2f}Y{suffix}\"\n",
    "\n",
    "bigger_than_50g = []\n",
    "root = r'G:\\My Drive\\my_drive'\n",
    "new_root = r'C:\\Users\\HsiangHung-WisdomGro\\OneDrive - Wisdom Asset Management Ltd\\my_drive'\n",
    "\n",
    "for master in tqdm( listdir(root) ):\n",
    "    if master in listdir(new_root): continue\n",
    "    master_path = path.join(root, master)\n",
    "    master_isdir = path.isdir(master_path)\n",
    "    \n",
    "    if master_isdir:\n",
    "        shutil.copytree(master_path, path.join(new_root, master), ignore = shutil.ignore_patterns('*.ini', '*.gdoc', '*.gsheet'))\n",
    "\n",
    "        # print(master,\n",
    "        #     get_size_format(\n",
    "        #         get_directory_size(master)\n",
    "        #     )\n",
    "        # )\n",
    "        # bigger_than_50g.append([master, get_size_format( get_directory_size(master) )])\n",
    "    else:\n",
    "        shutil.copy(master_path, path.join(new_root, master))\n",
    "\n",
    "        # print(master)\n",
    "        # copy_tree(r\"G:\\My Drive\\my_drive\\test\", r\"C:\\Users\\HsiangHung-WisdomGro\\OneDrive - Wisdom Asset Management Ltd\")\n",
    "\n",
    "    # print( master, master_isdir )\n",
    "    # while master_isdir:\n",
    "    #     listdir(master, )"
   ]
  }
 ],
 "metadata": {
  "kernelspec": {
   "display_name": "Python 3",
   "language": "python",
   "name": "python3"
  },
  "language_info": {
   "codemirror_mode": {
    "name": "ipython",
    "version": 3
   },
   "file_extension": ".py",
   "mimetype": "text/x-python",
   "name": "python",
   "nbconvert_exporter": "python",
   "pygments_lexer": "ipython3",
   "version": "3.9.5"
  },
  "orig_nbformat": 4
 },
 "nbformat": 4,
 "nbformat_minor": 2
}
