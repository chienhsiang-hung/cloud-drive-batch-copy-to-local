{
 "cells": [
  {
   "attachments": {},
   "cell_type": "markdown",
   "metadata": {},
   "source": [
    "`shutil.copytree` works recursively. You can just use it to `cp` your folders and content."
   ]
  },
  {
   "cell_type": "code",
   "execution_count": 9,
   "metadata": {},
   "outputs": [],
   "source": [
    "import os, shutil\n",
    "\n",
    "\n",
    "def relocate(src, dst):\n",
    "    \"\"\"To Relocate (Copy) the Folders and content from src folder to dst folder.\n",
    "    Specific for the use case of `cp` the fiile from cloud drive to your local machine.\n",
    "\n",
    "    @src: input folder\n",
    "    @dst: output folder\n",
    "    \"\"\"\n",
    "    shutil.copytree(\n",
    "        os.path(src),\n",
    "        os.path(dst),\n",
    "        ignore = shutil.ignore_patterns('*.ini', '*.gdoc', '*.gsheet')\n",
    "    )"
   ]
  },
  {
   "cell_type": "code",
   "execution_count": 12,
   "metadata": {},
   "outputs": [
    {
     "name": "stdout",
     "output_type": "stream",
     "text": [
      "Help on function relocate in module __main__:\n",
      "\n",
      "relocate(src, dst)\n",
      "    To Relocate (Copy) the Folders and content from src folder to dst folder.\n",
      "    Specific for the use case of `cp` the fiile from cloud drive to your local machine.\n",
      "    \n",
      "    @src: input folder\n",
      "    @dst: output folder\n",
      "\n"
     ]
    }
   ],
   "source": [
    "help(relocate)"
   ]
  },
  {
   "cell_type": "code",
   "execution_count": 8,
   "metadata": {},
   "outputs": [
    {
     "name": "stdout",
     "output_type": "stream",
     "text": [
      "log.txt exists.\n",
      "['C:\\\\Users\\\\HsiangHung-WisdomGro\\\\OneDrive - Wisdom Asset Management Ltd\\\\.849C9593-D756-4E56-8D6E-42412F2A707B', 'C:\\\\Users\\\\HsiangHung-WisdomGro\\\\OneDrive - Wisdom Asset Management Ltd\\\\151625-001_202105.pdf', 'C:\\\\Users\\\\HsiangHung-WisdomGro\\\\OneDrive - Wisdom Asset Management Ltd\\\\88627010.6000.VALUATION.2022-03-03.85244266.pdf', 'C:\\\\Users\\\\HsiangHung-WisdomGro\\\\OneDrive - Wisdom Asset Management Ltd\\\\89308221.6000.VALUATION.2022-03-03.85247704.pdf', 'C:\\\\Users\\\\HsiangHung-WisdomGro\\\\OneDrive - Wisdom Asset Management Ltd\\\\89308502.6000.VALUATION.2022-03-03.85243664.pdf', 'C:\\\\Users\\\\HsiangHung-WisdomGro\\\\OneDrive - Wisdom Asset Management Ltd\\\\accu_1_en.jpg', 'C:\\\\Users\\\\HsiangHung-WisdomGro\\\\OneDrive - Wisdom Asset Management Ltd\\\\accu_2_en.jpg', 'C:\\\\Users\\\\HsiangHung-WisdomGro\\\\OneDrive - Wisdom Asset Management Ltd\\\\Attachments', 'C:\\\\Users\\\\HsiangHung-WisdomGro\\\\OneDrive - Wisdom Asset Management Ltd\\\\AWS', 'C:\\\\Users\\\\HsiangHung-WisdomGro\\\\OneDrive - Wisdom Asset Management Ltd\\\\Azure', 'C:\\\\Users\\\\HsiangHung-WisdomGro\\\\OneDrive - Wisdom Asset Management Ltd\\\\biweekly_report_test', 'C:\\\\Users\\\\HsiangHung-WisdomGro\\\\OneDrive - Wisdom Asset Management Ltd\\\\Competitor Report', 'C:\\\\Users\\\\HsiangHung-WisdomGro\\\\OneDrive - Wisdom Asset Management Ltd\\\\Compliance', 'C:\\\\Users\\\\HsiangHung-WisdomGro\\\\OneDrive - Wisdom Asset Management Ltd\\\\DBSPB_StructuredProducts_FCN_scenario1.webp', 'C:\\\\Users\\\\HsiangHung-WisdomGro\\\\OneDrive - Wisdom Asset Management Ltd\\\\DBSPB_StructuredProducts_FCN_scenario2.webp', 'C:\\\\Users\\\\HsiangHung-WisdomGro\\\\OneDrive - Wisdom Asset Management Ltd\\\\DBSPB_StructuredProducts_FCN_scenario3.webp', 'C:\\\\Users\\\\HsiangHung-WisdomGro\\\\OneDrive - Wisdom Asset Management Ltd\\\\DBSPB_StructuredProducts_FCN_scenario4.webp', 'C:\\\\Users\\\\HsiangHung-WisdomGro\\\\OneDrive - Wisdom Asset Management Ltd\\\\DBSTR_ELN_Scenarios.webp', 'C:\\\\Users\\\\HsiangHung-WisdomGro\\\\OneDrive - Wisdom Asset Management Ltd\\\\DDI ppt', 'C:\\\\Users\\\\HsiangHung-WisdomGro\\\\OneDrive - Wisdom Asset Management Ltd\\\\Desktop', 'C:\\\\Users\\\\HsiangHung-WisdomGro\\\\OneDrive - Wisdom Asset Management Ltd\\\\desktop.ini', 'C:\\\\Users\\\\HsiangHung-WisdomGro\\\\OneDrive - Wisdom Asset Management Ltd\\\\Document.docx', 'C:\\\\Users\\\\HsiangHung-WisdomGro\\\\OneDrive - Wisdom Asset Management Ltd\\\\Documents', 'C:\\\\Users\\\\HsiangHung-WisdomGro\\\\OneDrive - Wisdom Asset Management Ltd\\\\ELN_Product_Catalogue_Final.pdf', 'C:\\\\Users\\\\HsiangHung-WisdomGro\\\\OneDrive - Wisdom Asset Management Ltd\\\\email to text.txt', 'C:\\\\Users\\\\HsiangHung-WisdomGro\\\\OneDrive - Wisdom Asset Management Ltd\\\\excel problem test.xlsx', 'C:\\\\Users\\\\HsiangHung-WisdomGro\\\\OneDrive - Wisdom Asset Management Ltd\\\\fast-forward.gif', 'C:\\\\Users\\\\HsiangHung-WisdomGro\\\\OneDrive - Wisdom Asset Management Ltd\\\\finer-s-en.pdf', 'C:\\\\Users\\\\HsiangHung-WisdomGro\\\\OneDrive - Wisdom Asset Management Ltd\\\\Fixed Coupon Notes Client Sheet ENG (Final).pdf', 'C:\\\\Users\\\\HsiangHung-WisdomGro\\\\OneDrive - Wisdom Asset Management Ltd\\\\how-to-unlock-a-secured-read-protected-pdf-in-python.ipynb', 'C:\\\\Users\\\\HsiangHung-WisdomGro\\\\OneDrive - Wisdom Asset Management Ltd\\\\Hsiang @ Work.url', 'C:\\\\Users\\\\HsiangHung-WisdomGro\\\\OneDrive - Wisdom Asset Management Ltd\\\\html webpage to pdf', 'C:\\\\Users\\\\HsiangHung-WisdomGro\\\\OneDrive - Wisdom Asset Management Ltd\\\\iFAST FintechSolutions_TC_Full.pdf', 'C:\\\\Users\\\\HsiangHung-WisdomGro\\\\OneDrive - Wisdom Asset Management Ltd\\\\IFRS科目中英.xlsx', 'C:\\\\Users\\\\HsiangHung-WisdomGro\\\\OneDrive - Wisdom Asset Management Ltd\\\\Internet Infrastructure', 'C:\\\\Users\\\\HsiangHung-WisdomGro\\\\OneDrive - Wisdom Asset Management Ltd\\\\Invoice_1320074149.pdf', 'C:\\\\Users\\\\HsiangHung-WisdomGro\\\\OneDrive - Wisdom Asset Management Ltd\\\\KO Notification', 'C:\\\\Users\\\\HsiangHung-WisdomGro\\\\OneDrive - Wisdom Asset Management Ltd\\\\LeaveRecord_to_Calendar_test.xlsx', 'C:\\\\Users\\\\HsiangHung-WisdomGro\\\\OneDrive - Wisdom Asset Management Ltd\\\\masterplan.png', 'C:\\\\Users\\\\HsiangHung-WisdomGro\\\\OneDrive - Wisdom Asset Management Ltd\\\\Matrixport Deck_Hublot print.pptx.pdf', 'C:\\\\Users\\\\HsiangHung-WisdomGro\\\\OneDrive - Wisdom Asset Management Ltd\\\\Microsoft Teams Chat Files', 'C:\\\\Users\\\\HsiangHung-WisdomGro\\\\OneDrive - Wisdom Asset Management Ltd\\\\MicrosoftTeams-image_workload.png', 'C:\\\\Users\\\\HsiangHung-WisdomGro\\\\OneDrive - Wisdom Asset Management Ltd\\\\monthly routine.docx', 'C:\\\\Users\\\\HsiangHung-WisdomGro\\\\OneDrive - Wisdom Asset Management Ltd\\\\my_drive', 'C:\\\\Users\\\\HsiangHung-WisdomGro\\\\OneDrive - Wisdom Asset Management Ltd\\\\new hire onboarding PC setting.docx', 'C:\\\\Users\\\\HsiangHung-WisdomGro\\\\OneDrive - Wisdom Asset Management Ltd\\\\OneDrive_1_10-06-2021', 'C:\\\\Users\\\\HsiangHung-WisdomGro\\\\OneDrive - Wisdom Asset Management Ltd\\\\OneDrive_2021-06-17', 'C:\\\\Users\\\\HsiangHung-WisdomGro\\\\OneDrive - Wisdom Asset Management Ltd\\\\PDF_extractors_function', 'C:\\\\Users\\\\HsiangHung-WisdomGro\\\\OneDrive - Wisdom Asset Management Ltd\\\\Personal trading authorization form.docx', 'C:\\\\Users\\\\HsiangHung-WisdomGro\\\\OneDrive - Wisdom Asset Management Ltd\\\\Pictures', 'C:\\\\Users\\\\HsiangHung-WisdomGro\\\\OneDrive - Wisdom Asset Management Ltd\\\\PM', 'C:\\\\Users\\\\HsiangHung-WisdomGro\\\\OneDrive - Wisdom Asset Management Ltd\\\\Power_Automate_Form_to_Word', 'C:\\\\Users\\\\HsiangHung-WisdomGro\\\\OneDrive - Wisdom Asset Management Ltd\\\\Python if __name__ == __main__ Explained with Code Examples', 'C:\\\\Users\\\\HsiangHung-WisdomGro\\\\OneDrive - Wisdom Asset Management Ltd\\\\query.iqy', 'C:\\\\Users\\\\HsiangHung-WisdomGro\\\\OneDrive - Wisdom Asset Management Ltd\\\\Recordings', 'C:\\\\Users\\\\HsiangHung-WisdomGro\\\\OneDrive - Wisdom Asset Management Ltd\\\\Staff Transaction', 'C:\\\\Users\\\\HsiangHung-WisdomGro\\\\OneDrive - Wisdom Asset Management Ltd\\\\Structured Product List App', 'C:\\\\Users\\\\HsiangHung-WisdomGro\\\\OneDrive - Wisdom Asset Management Ltd\\\\test.html', 'C:\\\\Users\\\\HsiangHung-WisdomGro\\\\OneDrive - Wisdom Asset Management Ltd\\\\test.ipynb', 'C:\\\\Users\\\\HsiangHung-WisdomGro\\\\OneDrive - Wisdom Asset Management Ltd\\\\The Documents', 'C:\\\\Users\\\\HsiangHung-WisdomGro\\\\OneDrive - Wisdom Asset Management Ltd\\\\WAM_monthly_statement', 'C:\\\\Users\\\\HsiangHung-WisdomGro\\\\OneDrive - Wisdom Asset Management Ltd\\\\Whiteboards', 'C:\\\\Users\\\\HsiangHung-WisdomGro\\\\OneDrive - Wisdom Asset Management Ltd\\\\WindowsImageBackup', 'C:\\\\Users\\\\HsiangHung-WisdomGro\\\\OneDrive - Wisdom Asset Management Ltd\\\\Wisdom Logo', 'C:\\\\Users\\\\HsiangHung-WisdomGro\\\\OneDrive - Wisdom Asset Management Ltd\\\\wisdom-financial.com', 'C:\\\\Users\\\\HsiangHung-WisdomGro\\\\OneDrive - Wisdom Asset Management Ltd\\\\WIT', 'C:\\\\Users\\\\HsiangHung-WisdomGro\\\\OneDrive - Wisdom Asset Management Ltd\\\\WITapp-for-GFO', 'C:\\\\Users\\\\HsiangHung-WisdomGro\\\\OneDrive - Wisdom Asset Management Ltd\\\\__pycache__'] \n",
      " 68\n"
     ]
    }
   ],
   "source": [
    "import os\n",
    "\n",
    "\n",
    "def check_log():\n",
    "    # read the log\n",
    "    if os.path.exists('log.txt'):\n",
    "        print('log.txt exists.')\n",
    "        pass\n",
    "    # create a new log\n",
    "    else:\n",
    "        open('log.txt', 'x')\n",
    "        print('log.txt created.')\n",
    "\n",
    "def relocate(input_folder, output_folder):\n",
    "    check_log()\n",
    "    \n",
    "    # DFS\n",
    "    print(\n",
    "        [os.path.join(input_folder, mypath) for mypath in os.listdir(input_folder)],'\\n',\n",
    "        len([os.path.join(input_folder, mypath) for mypath in os.listdir(input_folder)])\n",
    "    )\n",
    "\n",
    "    \n",
    "relocate(\n",
    "    r'C:\\Users\\HsiangHung-WisdomGro\\OneDrive - Wisdom Asset Management Ltd',\n",
    "    r'C:\\Users\\HsiangHung-WisdomGro\\OneDrive - Wisdom Asset Management Ltd'\n",
    ")"
   ]
  },
  {
   "cell_type": "code",
   "execution_count": null,
   "metadata": {},
   "outputs": [],
   "source": [
    "import os\n",
    "from os import listdir, path\n",
    "# from distutils.dir_util import copy_tree\n",
    "import shutil\n",
    "from tqdm import tqdm\n",
    "\n",
    "def get_directory_size(directory):\n",
    "    \"\"\"Returns the `directory` size in bytes.\"\"\"\n",
    "    total = 0\n",
    "    try:\n",
    "        # print(\"[+] Getting the size of\", directory)\n",
    "        for entry in os.scandir(directory):\n",
    "            if entry.is_file():\n",
    "                # if it's a file, use stat() function\n",
    "                total += entry.stat().st_size\n",
    "            elif entry.is_dir():\n",
    "                # if it's a directory, recursively call this function\n",
    "                total += get_directory_size(entry.path)\n",
    "    except NotADirectoryError:\n",
    "        # if `directory` isn't a directory, get the file size then\n",
    "        return os.path.getsize(directory)\n",
    "    except PermissionError:\n",
    "        # if for whatever reason we can't open the folder, return 0\n",
    "        return 0\n",
    "    return total\n",
    "\n",
    "def get_size_format(b, factor=1024, suffix=\"B\"):\n",
    "    \"\"\"\n",
    "    Scale bytes to its proper byte format\n",
    "    e.g:\n",
    "        1253656 => '1.20MB'\n",
    "        1253656678 => '1.17GB'\n",
    "    \"\"\"\n",
    "    for unit in [\"\", \"K\", \"M\", \"G\", \"T\", \"P\", \"E\", \"Z\"]:\n",
    "        if b < factor:\n",
    "            return f\"{b:.2f}{unit}{suffix}\"\n",
    "        b /= factor\n",
    "    return f\"{b:.2f}Y{suffix}\"\n",
    "\n",
    "bigger_than_50g = []\n",
    "root = r'G:\\My Drive\\my_drive'\n",
    "new_root = r'C:\\Users\\HsiangHung-WisdomGro\\OneDrive - Wisdom Asset Management Ltd\\my_drive'\n",
    "\n",
    "for master in tqdm( listdir(root) ):\n",
    "    if master in listdir(new_root): continue\n",
    "    master_path = path.join(root, master)\n",
    "    master_isdir = path.isdir(master_path)\n",
    "    \n",
    "    if master_isdir:\n",
    "        shutil.copytree(master_path, path.join(new_root, master), ignore = shutil.ignore_patterns('*.ini', '*.gdoc', '*.gsheet'))\n",
    "\n",
    "        # print(master,\n",
    "        #     get_size_format(\n",
    "        #         get_directory_size(master)\n",
    "        #     )\n",
    "        # )\n",
    "        # bigger_than_50g.append([master, get_size_format( get_directory_size(master) )])\n",
    "    else:\n",
    "        shutil.copy(master_path, path.join(new_root, master))\n",
    "\n",
    "        # print(master)\n",
    "        # copy_tree(r\"G:\\My Drive\\my_drive\\test\", r\"C:\\Users\\HsiangHung-WisdomGro\\OneDrive - Wisdom Asset Management Ltd\")\n",
    "\n",
    "    # print( master, master_isdir )\n",
    "    # while master_isdir:\n",
    "    #     listdir(master, )"
   ]
  }
 ],
 "metadata": {
  "kernelspec": {
   "display_name": "Python 3",
   "language": "python",
   "name": "python3"
  },
  "language_info": {
   "codemirror_mode": {
    "name": "ipython",
    "version": 3
   },
   "file_extension": ".py",
   "mimetype": "text/x-python",
   "name": "python",
   "nbconvert_exporter": "python",
   "pygments_lexer": "ipython3",
   "version": "3.9.5"
  },
  "orig_nbformat": 4
 },
 "nbformat": 4,
 "nbformat_minor": 2
}
